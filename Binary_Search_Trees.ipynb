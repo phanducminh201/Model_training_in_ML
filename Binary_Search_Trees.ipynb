{
  "nbformat": 4,
  "nbformat_minor": 0,
  "metadata": {
    "colab": {
      "provenance": [],
      "authorship_tag": "ABX9TyNkZ8hcqalk1q9fQEoAubm0",
      "include_colab_link": true
    },
    "kernelspec": {
      "name": "python3",
      "display_name": "Python 3"
    },
    "language_info": {
      "name": "python"
    }
  },
  "cells": [
    {
      "cell_type": "markdown",
      "metadata": {
        "id": "view-in-github",
        "colab_type": "text"
      },
      "source": [
        "<a href=\"https://colab.research.google.com/github/phanducminh201/Model_training_in_ML/blob/main/Binary_Search_Trees.ipynb\" target=\"_parent\"><img src=\"https://colab.research.google.com/assets/colab-badge.svg\" alt=\"Open In Colab\"/></a>"
      ]
    },
    {
      "cell_type": "markdown",
      "source": [
        "# **IMPORTING THE LIBRARIES**"
      ],
      "metadata": {
        "id": "G13aoTVLcl8q"
      }
    },
    {
      "cell_type": "code",
      "execution_count": null,
      "metadata": {
        "id": "cZSlH9ksDhLP"
      },
      "outputs": [],
      "source": [
        "import numpy as np\n",
        "import statistics as st\n",
        "import time\n",
        "from collections import deque\n",
        "import random\n"
      ]
    },
    {
      "cell_type": "markdown",
      "source": [
        "# **QUEUE & STACK**"
      ],
      "metadata": {
        "id": "5VUamhDFdD2y"
      }
    },
    {
      "cell_type": "code",
      "source": [
        "class Node:\n",
        "    def __init__(self, name):\n",
        "      self.name = name\n",
        "      self.left = None\n",
        "      self.right = None\n",
        "      self.parent = None\n",
        "\n",
        "a = ['A', 'B', 'C', 'D', 'E', 'F', 'G','H', 'I', 'K', 'L', 'M', 'N', 'O', 'P']\n",
        "\n",
        "\n",
        "Node_data = [Node(a[i]) for i in range(len(a))]\n",
        "Node_data\n",
        "\n",
        "for i in range(len(Node_data)):\n",
        "  if 2*i+1 < len(Node_data):\n",
        "    Node_data[i].left = Node_data[2*i+1]\n",
        "  if 2*i+2 < len(Node_data):\n",
        "    Node_data[i].right = Node_data[2*i+2]\n",
        "root = Node_data[0]\n",
        "print(root.left.right.name)"
      ],
      "metadata": {
        "id": "DPiwymPXDsBq",
        "colab": {
          "base_uri": "https://localhost:8080/"
        },
        "outputId": "4b03f1dc-e22c-4792-fc6b-e6a51bcfb4ab"
      },
      "execution_count": null,
      "outputs": [
        {
          "output_type": "stream",
          "name": "stdout",
          "text": [
            "E\n"
          ]
        }
      ]
    },
    {
      "cell_type": "code",
      "source": [
        "def addnode(self, name):\n",
        "  if self is None:\n",
        "    nut = Node(name)\n",
        "    self = nut\n",
        "    return"
      ],
      "metadata": {
        "id": "XxpbCJqSChAi"
      },
      "execution_count": null,
      "outputs": []
    },
    {
      "cell_type": "code",
      "source": [
        "# 1            A   #nut goc\n",
        "# 2      B           C\n",
        "# 3   D     E     F     G\n",
        "# 4 H   I J   K L  M  N   O #nut la"
      ],
      "metadata": {
        "id": "9adw1FDFxpaS"
      },
      "execution_count": null,
      "outputs": []
    },
    {
      "cell_type": "code",
      "source": [
        "Q = deque()\n",
        "Q.append(root)\n",
        "while Q:\n",
        "  r = Q.popleft()\n",
        "  print(r.name)\n",
        "  if r.left:\n",
        "    Q.append(r.left)\n",
        "  if r.right:\n",
        "    Q.append(r.right)\n",
        "  # print(Q)"
      ],
      "metadata": {
        "colab": {
          "base_uri": "https://localhost:8080/"
        },
        "id": "PHo0oInd2fZL",
        "outputId": "d162a5f0-73e5-4657-c79e-5c3fccc4b79a"
      },
      "execution_count": null,
      "outputs": [
        {
          "output_type": "stream",
          "name": "stdout",
          "text": [
            "A\n",
            "B\n",
            "C\n",
            "D\n",
            "E\n",
            "F\n",
            "G\n",
            "H\n",
            "I\n",
            "J\n",
            "K\n",
            "L\n",
            "M\n",
            "N\n",
            "O\n"
          ]
        }
      ]
    },
    {
      "cell_type": "code",
      "source": [
        "def tim_kiem(cay, ten_nut):\n",
        "  if cay is None:\n",
        "    return None\n",
        "  nt = cay\n",
        "\n",
        "  q = deque()\n",
        "  q.append(nt)\n",
        "  while q: #trong khi q chua rong\n",
        "    r = q.popleft()\n",
        "    if r.name == ten_nut:\n",
        "      return r\n",
        "    if r.left:\n",
        "      q.append(r.left)\n",
        "    if r.right:\n",
        "      q.append(r.right)"
      ],
      "metadata": {
        "id": "I9faSHP92i0d"
      },
      "execution_count": null,
      "outputs": []
    },
    {
      "cell_type": "code",
      "source": [
        "nut_can_tim = tim_kiem(root, 'M')\n",
        "print(nut_can_tim.name)"
      ],
      "metadata": {
        "colab": {
          "base_uri": "https://localhost:8080/"
        },
        "id": "sfm3JBx534Qq",
        "outputId": "5b4dd9a8-2ce0-438c-ecc2-a6f42d4cde18"
      },
      "execution_count": null,
      "outputs": [
        {
          "output_type": "stream",
          "name": "stdout",
          "text": [
            "M\n"
          ]
        }
      ]
    },
    {
      "cell_type": "code",
      "source": [
        "def duyet_sau(cay):\n",
        "  S = []\n",
        "  S.append(root)\n",
        "  while S: #trong khi S chua rong\n",
        "    r = S.pop()\n",
        "    print(r.name)\n",
        "    if r.left:\n",
        "      S.append(r.left)\n",
        "    if r.right:\n",
        "      S.append(r.right)"
      ],
      "metadata": {
        "id": "_LPDCyeq7mVd"
      },
      "execution_count": null,
      "outputs": []
    },
    {
      "cell_type": "code",
      "source": [
        "duyet_sau(root)"
      ],
      "metadata": {
        "colab": {
          "base_uri": "https://localhost:8080/"
        },
        "id": "RDSMd7-W7_Vu",
        "outputId": "2441042c-77dd-46f6-991b-483bf4b9e99b"
      },
      "execution_count": null,
      "outputs": [
        {
          "output_type": "stream",
          "name": "stdout",
          "text": [
            "A\n",
            "C\n",
            "G\n",
            "O\n",
            "N\n",
            "F\n",
            "M\n",
            "L\n",
            "B\n",
            "E\n",
            "K\n",
            "J\n",
            "D\n",
            "I\n",
            "H\n"
          ]
        }
      ]
    },
    {
      "cell_type": "code",
      "source": [
        "from typing import Optional\n",
        "class TreeNode:\n",
        "    def __init__(self, val=0, left=None, right=None):\n",
        "      self.val = val\n",
        "      self.left = left\n",
        "      self.right = right\n",
        "class Solution:\n",
        "    def isSameTree(self, p: Optional[TreeNode], q: Optional[TreeNode]) -> bool:\n",
        "        if not p and not q:\n",
        "            return True\n",
        "        if not p or not q or p.val != q.val:\n",
        "            return False\n",
        "        return self.isSameTree(p.left, q.left) and self.isSameTree(p.right, q.right)"
      ],
      "metadata": {
        "id": "xkugYVHb8BY0"
      },
      "execution_count": null,
      "outputs": []
    },
    {
      "cell_type": "code",
      "source": [
        "p = TreeNode(1, TreeNode(2),TreeNode(3))\n",
        "q = TreeNode(1,TreeNode(2),TreeNode(3))\n",
        "\n",
        "solution = Solution()\n",
        "print(solution.isSameTree(p, q))"
      ],
      "metadata": {
        "colab": {
          "base_uri": "https://localhost:8080/"
        },
        "id": "oD99CPajxPn8",
        "outputId": "357b4b94-456a-4b21-c9f1-c66eb28f9c73"
      },
      "execution_count": null,
      "outputs": [
        {
          "output_type": "stream",
          "name": "stdout",
          "text": [
            "True\n"
          ]
        }
      ]
    }
  ]
}